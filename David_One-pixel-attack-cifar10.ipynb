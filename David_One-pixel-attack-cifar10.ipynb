{
  "cells": [
    {
      "cell_type": "markdown",
      "metadata": {
        "id": "2k9KiAOc8JyN"
      },
      "source": [
        "# One Pixel Attack Tutorial\n",
        "## Part 1 - Cifar10\n",
        "\n",
        "### Dan Kondratyuk\n",
        "### September 15, 2019"
      ]
    },
    {
      "cell_type": "markdown",
      "metadata": {
        "id": "tEtm2vUx8JyP"
      },
      "source": [
        "![](images/pred2.png \"All it takes is one pixel\")"
      ]
    },
    {
      "cell_type": "markdown",
      "metadata": {
        "id": "nzPJi9eO8JyQ"
      },
      "source": [
        "This notebook will demonstrate the one pixel attack with a few different convolutional neural network models. By using differential evolution, we find a special pixel that can modify a target image such that the network misclassifies the image (which it previously correctly classified).\n",
        "\n",
        "In theory, we want models that don't get fooled by such tiny changes. Especially in images, it is undesirable to have a small alteration in the input result in a drastic change in the output. However, even the most accurate neural networks are susceptible to this type of attack.\n",
        "\n",
        "To read more about it, see [the original paper](https://arxiv.org/abs/1710.08864), or the authors' [official repo](https://github.com/Carina02/One-Pixel-Attack).\n",
        "\n",
        "Let's get started."
      ]
    },
    {
      "cell_type": "markdown",
      "metadata": {
        "id": "CL2H7XtU8JyQ"
      },
      "source": [
        "## Imports"
      ]
    },
    {
      "cell_type": "markdown",
      "metadata": {
        "id": "kRXd0tLn8JyR"
      },
      "source": [
        "Ensure that you have `numpy`, `pandas`, `scipy`, `matplotlib`, `tensorflow-gpu`, and `keras` installed.\n",
        "\n",
        "Alternatively, you may [run this notebook in Google Colab](https://colab.research.google.com/drive/1Zq1kGP9C7i-70-SXyuEEaqYngtyQZMn7). Note: colab allows you to run this notebook on GPU, free of charge. Simply select \"GPU\" in the Accelerator drop-down in Notebook Settings (either through the Edit menu or the command palette at cmd/ctrl-shift-P)."
      ]
    },
    {
      "cell_type": "code",
      "execution_count": 19,
      "metadata": {
        "id": "nJ5x0_1T8JyR",
        "outputId": "57729291-f681-498c-bf6f-5ddeba78f701",
        "colab": {
          "base_uri": "https://localhost:8080/"
        }
      },
      "outputs": [
        {
          "output_type": "stream",
          "name": "stdout",
          "text": [
            "Cloning into 'one-pixel-attack-keras'...\n",
            "remote: Enumerating objects: 356, done.\u001b[K\n",
            "remote: Counting objects: 100% (10/10), done.\u001b[K\n",
            "remote: Compressing objects: 100% (10/10), done.\u001b[K\n",
            "remote: Total 356 (delta 3), reused 2 (delta 0), pack-reused 346\u001b[K\n",
            "Receiving objects: 100% (356/356), 44.57 MiB | 27.12 MiB/s, done.\n",
            "Resolving deltas: 100% (204/204), done.\n",
            "renamed 'one-pixel-attack-keras/1_one-pixel-attack-cifar10.ipynb' -> './1_one-pixel-attack-cifar10.ipynb'\n",
            "renamed 'one-pixel-attack-keras/2_one-pixel-attack-imagenet.ipynb' -> './2_one-pixel-attack-imagenet.ipynb'\n",
            "renamed 'one-pixel-attack-keras/attack.py' -> './attack.py'\n",
            "renamed 'one-pixel-attack-keras/CONTRIBUTING.md' -> './CONTRIBUTING.md'\n",
            "mv: cannot move 'one-pixel-attack-keras/data' to './data': Directory not empty\n",
            "renamed 'one-pixel-attack-keras/differential_evolution.py' -> './differential_evolution.py'\n",
            "renamed 'one-pixel-attack-keras/helper.py' -> './helper.py'\n",
            "mv: cannot move 'one-pixel-attack-keras/images' to './images': Directory not empty\n",
            "renamed 'one-pixel-attack-keras/LICENSE' -> './LICENSE'\n",
            "mv: cannot move 'one-pixel-attack-keras/networks' to './networks': Directory not empty\n",
            "renamed 'one-pixel-attack-keras/README.md' -> './README.md'\n",
            "renamed 'one-pixel-attack-keras/requirements.txt' -> './requirements.txt'\n",
            "renamed 'one-pixel-attack-keras/train.py' -> './train.py'\n"
          ]
        }
      ],
      "source": [
        "# If running in Google Colab, import files\n",
        "try:\n",
        "    import google.colab\n",
        "    in_colab = True\n",
        "except:\n",
        "    in_colab = False\n",
        "\n",
        "if in_colab:\n",
        "    !git clone https://github.com/Hyperparticle/one-pixel-attack-keras.git\n",
        "    !mv -v one-pixel-attack-keras/* .\n",
        "    !rm -rf one-pixel-attack-keras\n",
        "\n",
        "# Python Libraries\n",
        "%matplotlib inline\n",
        "import pickle\n",
        "import numpy as np\n",
        "import pandas as pd\n",
        "import matplotlib\n",
        "from tensorflow.keras.optimizers import Adam, SGD\n",
        "from tensorflow.keras.layers import BatchNormalization\n",
        "from tensorflow.keras.utils import to_categorical\n",
        "from tensorflow.keras.utils import plot_model\n",
        "from keras.datasets import cifar10\n",
        "from keras import backend as K\n",
        "\n",
        "# Custom Networks\n",
        "from networks.lenet import LeNet\n",
        "from networks.pure_cnn import PureCnn\n",
        "from networks.network_in_network import NetworkInNetwork\n",
        "from networks.resnet import ResNet\n",
        "from networks.densenet import DenseNet\n",
        "from networks.wide_resnet import WideResNet\n",
        "from networks.capsnet import CapsNet\n",
        "\n",
        "# Helper functions\n",
        "from differential_evolution import differential_evolution\n",
        "import helper\n",
        "\n",
        "matplotlib.style.use('ggplot')\n",
        "np.random.seed(100)"
      ]
    },
    {
      "cell_type": "markdown",
      "metadata": {
        "id": "cNAxGRQB8JyT"
      },
      "source": [
        "## Load Dataset"
      ]
    },
    {
      "cell_type": "markdown",
      "metadata": {
        "id": "xtro0Tmk8JyT"
      },
      "source": [
        "For this attack, we will use the [Cifar10 dataset](https://www.cs.toronto.edu/~kriz/cifar.html) packaged by Keras. The task of the dataset is to correctly classify a 32x32 pixel image in 1 of 10 categories (e.g., bird, deer, truck).\n",
        "\n",
        "The code below will load the Cifar10 dataset. Keras will need to download the dataset if it is not cached locally already."
      ]
    },
    {
      "cell_type": "code",
      "execution_count": 20,
      "metadata": {
        "id": "qOBt5c518JyU",
        "outputId": "411cc759-c152-4f02-f098-23cae47713f7",
        "colab": {
          "base_uri": "https://localhost:8080/"
        }
      },
      "outputs": [
        {
          "output_type": "stream",
          "name": "stdout",
          "text": [
            "Downloading data from https://www.cs.toronto.edu/~kriz/cifar-10-python.tar.gz\n",
            "170500096/170498071 [==============================] - 4s 0us/step\n",
            "170508288/170498071 [==============================] - 4s 0us/step\n"
          ]
        }
      ],
      "source": [
        "(x_train, y_train), (x_test, y_test) = cifar10.load_data()"
      ]
    },
    {
      "cell_type": "code",
      "execution_count": 21,
      "metadata": {
        "id": "4xRYu5OT8JyU"
      },
      "outputs": [],
      "source": [
        "class_names = ['airplane', 'automobile', 'bird', 'cat', 'deer', 'dog', 'frog', 'horse', 'ship', 'truck']"
      ]
    },
    {
      "cell_type": "markdown",
      "metadata": {
        "id": "vtBeopZ48JyV"
      },
      "source": [
        "We can access and display any image in the dataset by its index. For instance, here is a horse."
      ]
    },
    {
      "cell_type": "code",
      "execution_count": 22,
      "metadata": {
        "id": "JEHvKPUq8JyV",
        "outputId": "80734708-57f0-4d48-9df2-44962a2dd1f2",
        "colab": {
          "base_uri": "https://localhost:8080/",
          "height": 252
        }
      },
      "outputs": [
        {
          "output_type": "display_data",
          "data": {
            "image/png": "[encoded data removed]",
            "text/plain": [
              "<Figure size 432x288 with 1 Axes>"
            ]
          },
          "metadata": {}
        }
      ],
      "source": [
        "image_id = 99 # Image index in the test set\n",
        "helper.plot_image(x_test[image_id])"
      ]
    },
    {
      "cell_type": "markdown",
      "metadata": {
        "id": "258FKtf28JyV"
      },
      "source": [
        "## Image Perturbation"
      ]
    },
    {
      "cell_type": "markdown",
      "metadata": {
        "id": "0rr053gz8JyV"
      },
      "source": [
        "To begin, we need a function to modify one or more pixels in an image. \n",
        "\n",
        "We can define the perturbation of a pixel as a 5-tuple \n",
        "\n",
        "$$\\textbf{x} = (x, y, r, g, b)$$\n",
        "\n",
        "where $x, y$ are the coordinates of the pixel from 0 to 31, and $r,g,b$ are the red, green, and blue values from 0 to 255. Then multiple perturbations can simply be a concatenation of these tuples:\n",
        "\n",
        "$$X = (x_1, y_1, r_1, g_1, b_1, x_2, y_2, r_2, g_2, b_2, ...)$$\n",
        "\n",
        "We could instead use an array of tuples, but the optimization algorithm we will use requires it to be a flat 1-d vector.\n",
        "\n",
        "Then the function to perturb an image can take as an input the image and $X$, and output a copy of the image with each pixel at $x_i, y_i$ modified to have the color $r_i, g_i, b_i$. To speed up computation, we will batch together an array of $X$ perturbations, denoted $X_S$."
      ]
    },
    {
      "cell_type": "code",
      "execution_count": 23,
      "metadata": {
        "id": "3igvTzDH8JyW"
      },
      "outputs": [],
      "source": [
        "def perturb_image(xs, img):\n",
        "    # If this function is passed just one perturbation vector,\n",
        "    # pack it in a list to keep the computation the same\n",
        "    if xs.ndim < 2:\n",
        "        xs = np.array([xs])\n",
        "    \n",
        "    # Copy the image n == len(xs) times so that we can \n",
        "    # create n new perturbed images\n",
        "    tile = [len(xs)] + [1]*(xs.ndim+1)\n",
        "    imgs = np.tile(img, tile)\n",
        "    \n",
        "    # Make sure to floor the members of xs as int types\n",
        "    xs = xs.astype(int)\n",
        "    \n",
        "    for x,img in zip(xs, imgs):\n",
        "        # Split x into an array of 5-tuples (perturbation pixels)\n",
        "        # i.e., [[x,y,r,g,b], ...]\n",
        "        pixels = np.split(x, len(x) // 5)\n",
        "        for pixel in pixels:\n",
        "            # At each pixel's x,y position, assign its rgb value\n",
        "            x_pos, y_pos, *rgb = pixel\n",
        "            img[x_pos, y_pos] = rgb\n",
        "    \n",
        "    return imgs"
      ]
    },
    {
      "cell_type": "markdown",
      "metadata": {
        "id": "Nw8dfA588JyW"
      },
      "source": [
        "Now we can modify the pixels of any image we want.\n",
        "\n",
        "Let's modify our horse image by making pixel (16,16) yellow."
      ]
    },
    {
      "cell_type": "code",
      "execution_count": 24,
      "metadata": {
        "id": "OM29eDbF8JyX",
        "outputId": "b7b41370-1f0c-4602-d26e-b41f5b75d619",
        "colab": {
          "base_uri": "https://localhost:8080/",
          "height": 252
        }
      },
      "outputs": [
        {
          "output_type": "display_data",
          "data": {
            "image/png": "[encoded data removed]",
            "text/plain": [
              "<Figure size 432x288 with 1 Axes>"
            ]
          },
          "metadata": {}
        }
      ],
      "source": [
        "image_id = 99 # Image index in the test set\n",
        "pixel = np.array([16, 16, 255, 255, 0]) # pixel = x,y,r,g,b\n",
        "image_perturbed = perturb_image(pixel, x_test[image_id])[0]\n",
        "\n",
        "helper.plot_image(image_perturbed)"
      ]
    },
    {
      "cell_type": "markdown",
      "metadata": {
        "id": "k7QgujR88JyX"
      },
      "source": [
        "## Load Models"
      ]
    },
    {
      "cell_type": "markdown",
      "metadata": {
        "id": "NBpUdxci8JyX"
      },
      "source": [
        "To demonstrate the attack, we need some neural network models trained on the Cifar10 dataset. We will now load some pretrained models, which can be found in the `networks/models` directory.\n",
        "\n",
        "It is recommended to use Keras with a GPU enabled. If you're [running in Google Colab](https://colab.research.google.com/drive/1Zq1kGP9C7i-70-SXyuEEaqYngtyQZMn7), you can enable a GPU instance by selecting `Runtime > Change runtime type > Hardware accelerator > GPU` (you will need to re-run all cells). The code below can be used to check (if using TensorFlow)."
      ]
    },
    {
      "cell_type": "code",
      "execution_count": 27,
      "metadata": {
        "id": "8DyyTK-b8JyX",
        "outputId": "90ae2797-a221-4e81-c1b2-59044902ad42",
        "colab": {
          "base_uri": "https://localhost:8080/"
        }
      },
      "outputs": [
        {
          "output_type": "execute_result",
          "data": {
            "text/plain": [
              "[]"
            ]
          },
          "metadata": {},
          "execution_count": 27
        }
      ],
      "source": [
        "# Should output /device:GPU:0\n",
        "#K.tensorflow_backend._get_available_gpus()\n",
        "K.config.list_physical_devices('GPU') "
      ]
    },
    {
      "cell_type": "markdown",
      "metadata": {
        "id": "xqQj_F5I8JyY"
      },
      "source": [
        "There are two models included in this repository, `lenet` and `resnet` which will be loaded from disk automatically.\n",
        "\n",
        "Optionally, you may [download the larger, more accurate models](https://www.dropbox.com/sh/dvatkpjl0sn79kn/AAC9L4puJ_sdFUkDZfr5SFkLa?dl=0) (e.g., Capsule Network, DenseNet, etc.). Make sure to copy the models into the `networks/models/` directory. Then uncomment the lines below and run the cell to load the models of your choosing."
      ]
    },
    {
      "cell_type": "code",
      "execution_count": 28,
      "metadata": {
        "id": "PjVuXYKg8JyY",
        "outputId": "17e829e0-ec71-4e7e-8e6c-35ae602ce439",
        "colab": {
          "base_uri": "https://localhost:8080/"
        }
      },
      "outputs": [
        {
          "output_type": "stream",
          "name": "stdout",
          "text": [
            "Successfully loaded lenet\n",
            "Successfully loaded resnet\n"
          ]
        }
      ],
      "source": [
        "lenet = LeNet()\n",
        "resnet = ResNet()\n",
        "\n",
        "models = [lenet, resnet]\n",
        "\n",
        "## Uncomment below to load more models to play with. Make sure the model files exist by training or downloading them.\n",
        "\n",
        "# lenet = LeNet()\n",
        "# pure_cnn = PureCnn()\n",
        "# net_in_net = NetworkInNetwork()\n",
        "# resnet = ResNet()\n",
        "# densenet = DenseNet()\n",
        "# wide_resnet = WideResNet()\n",
        "# capsnet = CapsNet()\n",
        "\n",
        "# models = [lenet, pure_cnn, net_in_net, resnet, densenet, wide_resnet, capsnet]"
      ]
    },
    {
      "cell_type": "markdown",
      "metadata": {
        "id": "5MM4MdDP8JyY"
      },
      "source": [
        "Note that there are even more networks available in the `networks` directory, but must be trained before loading them here."
      ]
    },
    {
      "cell_type": "markdown",
      "metadata": {
        "id": "hpIb56k38JyY"
      },
      "source": [
        "### Calculate Model Accuracies"
      ]
    },
    {
      "cell_type": "markdown",
      "metadata": {
        "id": "EVGxJqsw8JyZ"
      },
      "source": [
        "After loading the models, we would like to evaluate all test images with each model to ensure that we only attack the images which have been classified correctly. The code below will also display the accuracy and number of parameters of each model."
      ]
    },
    {
      "cell_type": "code",
      "execution_count": 29,
      "metadata": {
        "scrolled": false,
        "id": "2bQV2MXp8JyZ",
        "outputId": "3a81c9e7-fb30-46e7-9e6d-6572156c71a5",
        "colab": {
          "base_uri": "https://localhost:8080/",
          "height": 148
        }
      },
      "outputs": [
        {
          "output_type": "stream",
          "name": "stdout",
          "text": [
            "Evaluating lenet\n",
            "Evaluating resnet\n"
          ]
        },
        {
          "output_type": "execute_result",
          "data": {
            "text/html": [
              "\n",
              "  <div id=\"df-ff3bba18-ea38-4c5a-9db5-5e24043b05f5\">\n",
              "    <div class=\"colab-df-container\">\n",
              "      <div>\n",
              "<style scoped>\n",
              "    .dataframe tbody tr th:only-of-type {\n",
              "        vertical-align: middle;\n",
              "    }\n",
              "\n",
              "    .dataframe tbody tr th {\n",
              "        vertical-align: top;\n",
              "    }\n",
              "\n",
              "    .dataframe thead th {\n",
              "        text-align: right;\n",
              "    }\n",
              "</style>\n",
              "<table border=\"1\" class=\"dataframe\">\n",
              "  <thead>\n",
              "    <tr style=\"text-align: right;\">\n",
              "      <th></th>\n",
              "      <th>name</th>\n",
              "      <th>accuracy</th>\n",
              "      <th>param_count</th>\n",
              "    </tr>\n",
              "  </thead>\n",
              "  <tbody>\n",
              "    <tr>\n",
              "      <th>0</th>\n",
              "      <td>lenet</td>\n",
              "      <td>0.7488</td>\n",
              "      <td>62006</td>\n",
              "    </tr>\n",
              "    <tr>\n",
              "      <th>1</th>\n",
              "      <td>resnet</td>\n",
              "      <td>0.9231</td>\n",
              "      <td>470218</td>\n",
              "    </tr>\n",
              "  </tbody>\n",
              "</table>\n",
              "</div>\n",
              "      <button class=\"colab-df-convert\" onclick=\"convertToInteractive('df-ff3bba18-ea38-4c5a-9db5-5e24043b05f5')\"\n",
              "              title=\"Convert this dataframe to an interactive table.\"\n",
              "              style=\"display:none;\">\n",
              "        \n",
              "  <svg xmlns=\"http://www.w3.org/2000/svg\" height=\"24px\"viewBox=\"0 0 24 24\"\n",
              "       width=\"24px\">\n",
              "    <path d=\"M0 0h24v24H0V0z\" fill=\"none\"/>\n",
              "    <path d=\"M18.56 5.44l.94 2.06.94-2.06 2.06-.94-2.06-.94-.94-2.06-.94 2.06-2.06.94zm-11 1L8.5 8.5l.94-2.06 2.06-.94-2.06-.94L8.5 2.5l-.94 2.06-2.06.94zm10 10l.94 2.06.94-2.06 2.06-.94-2.06-.94-.94-2.06-.94 2.06-2.06.94z\"/><path d=\"M17.41 7.96l-1.37-1.37c-.4-.4-.92-.59-1.43-.59-.52 0-1.04.2-1.43.59L10.3 9.45l-7.72 7.72c-.78.78-.78 2.05 0 2.83L4 21.41c.39.39.9.59 1.41.59.51 0 1.02-.2 1.41-.59l7.78-7.78 2.81-2.81c.8-.78.8-2.07 0-2.86zM5.41 20L4 18.59l7.72-7.72 1.47 1.35L5.41 20z\"/>\n",
              "  </svg>\n",
              "      </button>\n",
              "      \n",
              "  <style>\n",
              "    .colab-df-container {\n",
              "      display:flex;\n",
              "      flex-wrap:wrap;\n",
              "      gap: 12px;\n",
              "    }\n",
              "\n",
              "    .colab-df-convert {\n",
              "      background-color: #E8F0FE;\n",
              "      border: none;\n",
              "      border-radius: 50%;\n",
              "      cursor: pointer;\n",
              "      display: none;\n",
              "      fill: #1967D2;\n",
              "      height: 32px;\n",
              "      padding: 0 0 0 0;\n",
              "      width: 32px;\n",
              "    }\n",
              "\n",
              "    .colab-df-convert:hover {\n",
              "      background-color: #E2EBFA;\n",
              "      box-shadow: 0px 1px 2px rgba(60, 64, 67, 0.3), 0px 1px 3px 1px rgba(60, 64, 67, 0.15);\n",
              "      fill: #174EA6;\n",
              "    }\n",
              "\n",
              "    [theme=dark] .colab-df-convert {\n",
              "      background-color: #3B4455;\n",
              "      fill: #D2E3FC;\n",
              "    }\n",
              "\n",
              "    [theme=dark] .colab-df-convert:hover {\n",
              "      background-color: #434B5C;\n",
              "      box-shadow: 0px 1px 3px 1px rgba(0, 0, 0, 0.15);\n",
              "      filter: drop-shadow(0px 1px 2px rgba(0, 0, 0, 0.3));\n",
              "      fill: #FFFFFF;\n",
              "    }\n",
              "  </style>\n",
              "\n",
              "      <script>\n",
              "        const buttonEl =\n",
              "          document.querySelector('#df-ff3bba18-ea38-4c5a-9db5-5e24043b05f5 button.colab-df-convert');\n",
              "        buttonEl.style.display =\n",
              "          google.colab.kernel.accessAllowed ? 'block' : 'none';\n",
              "\n",
              "        async function convertToInteractive(key) {\n",
              "          const element = document.querySelector('#df-ff3bba18-ea38-4c5a-9db5-5e24043b05f5');\n",
              "          const dataTable =\n",
              "            await google.colab.kernel.invokeFunction('convertToInteractive',\n",
              "                                                     [key], {});\n",
              "          if (!dataTable) return;\n",
              "\n",
              "          const docLinkHtml = 'Like what you see? Visit the ' +\n",
              "            '<a target=\"_blank\" href=https://colab.research.google.com/notebooks/data_table.ipynb>data table notebook</a>'\n",
              "            + ' to learn more about interactive tables.';\n",
              "          element.innerHTML = '';\n",
              "          dataTable['output_type'] = 'display_data';\n",
              "          await google.colab.output.renderOutput(dataTable, element);\n",
              "          const docLink = document.createElement('div');\n",
              "          docLink.innerHTML = docLinkHtml;\n",
              "          element.appendChild(docLink);\n",
              "        }\n",
              "      </script>\n",
              "    </div>\n",
              "  </div>\n",
              "  "
            ],
            "text/plain": [
              "     name  accuracy  param_count\n",
              "0   lenet    0.7488        62006\n",
              "1  resnet    0.9231       470218"
            ]
          },
          "metadata": {},
          "execution_count": 29
        }
      ],
      "source": [
        "network_stats, correct_imgs = helper.evaluate_models(models, x_test, y_test)\n",
        "correct_imgs = pd.DataFrame(correct_imgs, columns=['name', 'img', 'label', 'confidence', 'pred'])\n",
        "network_stats = pd.DataFrame(network_stats, columns=['name', 'accuracy', 'param_count'])\n",
        "\n",
        "network_stats"
      ]
    },
    {
      "cell_type": "markdown",
      "metadata": {
        "id": "SL1c1mT48JyZ"
      },
      "source": [
        "### Prediction Function"
      ]
    },
    {
      "cell_type": "markdown",
      "metadata": {
        "id": "QZ7Z2mmr8JyZ"
      },
      "source": [
        "For the black-box attack, all we should care about is the inputs to the model (the images), and the outputs of the model (the prediction probabilities). No special information about the model is required; we could even swap it with a model that is not a neural network.\n",
        "\n",
        "Define a function that runs several perturbed images on a given model and returns the model's confidence (probability output) in the target class, one confidence value per image. If the target class is the correct class, this will be the function that we want to minimize so that the model will be most confident in another class (which is incorrect). Otherwise, the target is an incorrect class and we will want to maximize it."
      ]
    },
    {
      "cell_type": "code",
      "execution_count": 30,
      "metadata": {
        "id": "3qW6TD4E8JyZ"
      },
      "outputs": [],
      "source": [
        "def predict_classes(xs, img, target_class, model, minimize=True):\n",
        "    # Perturb the image with the given pixel(s) x and get the prediction of the model\n",
        "    imgs_perturbed = perturb_image(xs, img)\n",
        "    predictions = model.predict(imgs_perturbed)[:,target_class]\n",
        "    # This function should always be minimized, so return its complement if needed\n",
        "    return predictions if minimize else 1 - predictions"
      ]
    },
    {
      "cell_type": "markdown",
      "metadata": {
        "id": "OGA5qVGa8JyZ"
      },
      "source": [
        "Below we can modify a pixel in an image and see how the confidence of the model changes. In almost all cases, the confidence will not change. However, for very special cases it will change drastically."
      ]
    },
    {
      "cell_type": "code",
      "execution_count": null,
      "metadata": {
        "scrolled": true,
        "id": "LTUfTrBj8JyZ",
        "outputId": "a7cf09bd-ac23-4809-ade7-d8e8239dc43c"
      },
      "outputs": [
        {
          "name": "stdout",
          "output_type": "stream",
          "text": [
            "Confidence in true class bird is 0.00018887517\n",
            "Prior confidence was 0.7066183\n"
          ]
        },
        {
          "data": {
            "image/png": "[encoded data removed]",
            "text/plain": [
              "<matplotlib.figure.Figure at 0x7f91bb0c76a0>"
            ]
          },
          "metadata": {},
          "output_type": "display_data"
        }
      ],
      "source": [
        "image_id = 384\n",
        "pixel = np.array([16, 13,  25, 48, 156])\n",
        "model = resnet\n",
        "\n",
        "true_class = y_test[image_id, 0]\n",
        "prior_confidence = model.predict_one(x_test[image_id])[true_class]\n",
        "confidence = predict_classes(pixel, x_test[image_id], true_class, model)[0]\n",
        "\n",
        "print('Confidence in true class', class_names[true_class], 'is', confidence)\n",
        "print('Prior confidence was', prior_confidence)\n",
        "helper.plot_image(perturb_image(pixel, x_test[image_id])[0])"
      ]
    },
    {
      "cell_type": "markdown",
      "metadata": {
        "id": "zCfVgmg68Jya"
      },
      "source": [
        "## The Attack"
      ]
    },
    {
      "cell_type": "markdown",
      "metadata": {
        "id": "KVQm5jLf8Jya"
      },
      "source": [
        "Here we will demonstrate two variants of the one pixel attack: untargeted and targeted."
      ]
    },
    {
      "cell_type": "markdown",
      "metadata": {
        "id": "hAOBlbZP8Jya"
      },
      "source": [
        "### Targeted vs. Untargeted Attacks"
      ]
    },
    {
      "cell_type": "markdown",
      "metadata": {
        "id": "keGW2AB38Jya"
      },
      "source": [
        "The objective of an untargeted attack is to cause a model to misclassify an image. This means we want to perturb an image as to minimize the confidence probability of the correct classification category and maximize the sum of the probabilities of all other categories.\n",
        "\n",
        "The objective of a targeted attack is to cause a model to classify an image as a given  target class. We want to perturb an image as to maximize the probability of a class of our own choosing."
      ]
    },
    {
      "cell_type": "markdown",
      "metadata": {
        "id": "0IZCLX_n8Jya"
      },
      "source": [
        "### Success Criterion"
      ]
    },
    {
      "cell_type": "markdown",
      "metadata": {
        "id": "qroHGot_8Jya"
      },
      "source": [
        "Define a function so that whenever a given perturbation is sufficient to fool a model, it returns `True`. This will be called the success criterion. The `targeted_attack` boolean flag will indicate whether success means maximization of the target class or minimization of the correct (target) class."
      ]
    },
    {
      "cell_type": "code",
      "execution_count": null,
      "metadata": {
        "id": "Y6xvm6BD8Jya"
      },
      "outputs": [],
      "source": [
        "def attack_success(x, img, target_class, model, targeted_attack=False, verbose=False):\n",
        "    # Perturb the image with the given pixel(s) and get the prediction of the model\n",
        "    attack_image = perturb_image(x, img)\n",
        "\n",
        "    confidence = model.predict(attack_image)[0]\n",
        "    predicted_class = np.argmax(confidence)\n",
        "    \n",
        "    # If the prediction is what we want (misclassification or \n",
        "    # targeted classification), return True\n",
        "    if verbose:\n",
        "        print('Confidence:', confidence[target_class])\n",
        "    if ((targeted_attack and predicted_class == target_class) or\n",
        "        (not targeted_attack and predicted_class != target_class)):\n",
        "        return True\n",
        "    # NOTE: return None otherwise (not False), due to how Scipy handles its callback function"
      ]
    },
    {
      "cell_type": "markdown",
      "metadata": {
        "id": "LH5bhZ6R8Jyb"
      },
      "source": [
        "Here we demonstrate the usage of the success criterion function. It's nearly identical to `predict_class()` as before, but also decides the success of the attack. For purposes of demonstration we assume an untargeted attack."
      ]
    },
    {
      "cell_type": "code",
      "execution_count": null,
      "metadata": {
        "id": "bLJlkW4P8Jyb",
        "outputId": "6b22a7a0-0cc4-4828-8216-70b20067af82"
      },
      "outputs": [
        {
          "name": "stdout",
          "output_type": "stream",
          "text": [
            "Confidence: 0.07460105\n",
            "Prior confidence 0.5005429\n",
            "Attack success: True\n"
          ]
        },
        {
          "data": {
            "image/png": "[encoded data removed]",
            "text/plain": [
              "<matplotlib.figure.Figure at 0x7f91b999c2b0>"
            ]
          },
          "metadata": {},
          "output_type": "display_data"
        }
      ],
      "source": [
        "image_id = 541\n",
        "pixel = np.array([17, 18, 185, 36, 215])\n",
        "model = resnet\n",
        "\n",
        "true_class = y_test[image_id, 0]\n",
        "prior_confidence = model.predict_one(x_test[image_id])[true_class]\n",
        "success = attack_success(pixel, x_test[image_id], true_class, model, verbose=True)\n",
        "\n",
        "print('Prior confidence', prior_confidence)\n",
        "print('Attack success:', success == True)\n",
        "helper.plot_image(perturb_image(pixel, x_test[image_id])[0])"
      ]
    },
    {
      "cell_type": "markdown",
      "metadata": {
        "id": "vlNDV1mC8Jyb"
      },
      "source": [
        "### Attack Function"
      ]
    },
    {
      "cell_type": "markdown",
      "metadata": {
        "id": "8K_CHjQJ8Jyb"
      },
      "source": [
        "Finally, we arrive at the attack itself: how do we find the pixels that will result in a successful attack? First, formulate it as an optimization problem: in an untargeted attack, minimize the confidence of the correct class, and in a targeted attack, maximize the confidence of a target class. This is precisely our `predict_class` function.\n",
        "\n",
        "When performing black-box optimizations such as the one pixel attack, it can be very difficult to find an efficient gradient-based optimization that will work for the problem. It would be nice to use an optimization algorithm that can find good solutions without relying on the smoothness of the function. In our case, we have discrete integer positions ranging from 0 to 31 and color intensities from 0 to 255, so the function is expected to be jagged.\n",
        "\n",
        "For that, we use an algorithm called [differential evolution](https://en.wikipedia.org/wiki/Differential_evolution). Here's an example of differential evolution optimizing the [Ackley function](https://en.wikipedia.org/wiki/Ackley_function) (if you're using Google Colab, run the code cell below):\n",
        "\n",
        "<br>\n",
        "\n",
        "![Ackley GIF](https://github.com/hyperparticle/one-pixel-attack-keras/blob/master/images/Ackley.gif?raw=1)\n",
        "\n",
        "<br>\n",
        "\n",
        "Differential evolution is a type of evolutionary algorithm where a population of candidate solutions generate offspring which compete with the rest of the population each generation according to their fitness. Each candidate solution is represented by a vector of real numbers which are the inputs to the function we would like to minimize. The lower the output of this function, the better the fitness. The algorithm works by initializing a (usually random) population of vectors, generating new offspring vectors by combining (mutating) individuals in the population, and replacing worse-performing individuals with better candidates.\n",
        "\n",
        "In the context of the one pixel attack, our input will be a flat vector of pixel values:\n",
        "\n",
        "$$X = (x_1, y_1, r_1, g_1, b_1, x_2, y_2, r_2, g_2, b_2, ...)$$\n",
        "\n",
        "These will be encoded as floating-point values, but will be floored back into integers to calculate image perturbations. First we generate a random population of $n$ perturbations\n",
        "\n",
        "$$\\textbf{P} = (X_1, X_2, \\dots, X_n)$$\n",
        "\n",
        "Then, on each iteration we calculate $n$ new mutant children using the formula\n",
        "\n",
        "$$X_i = X_{r1} + F (X_{r2} - X_{r3})$$\n",
        "\n",
        "such that\n",
        "\n",
        "$$r1 \\neq r2 \\neq r3$$\n",
        "\n",
        "where $r1,r2,r3$ are random indices into our population $\\textbf{P}$, and $F = 0.5$ is a mutation parameter. Basically, we pick 3 random individuals from the previous generation and recombine them to make a new candidate solution. If this candidate $X_i$ gives a lower minimum at position $i$ (i.e., the attack is closer to success), replace the old $X_i$ with this new one. This process repeats for several iterations until our stopping criterion, `attack_success`, which is when we find an image that successfully completes the attack.\n",
        "\n",
        "<br>\n",
        "\n",
        "See [this excellent tutorial post](https://pablormier.github.io/2017/09/05/a-tutorial-on-differential-evolution-with-python/) on how differential evolution works in greater detail. \n",
        "\n",
        "We will use a [slight modification](differential_evolution.py) of [Scipy's implementation of differential evolution](https://docs.scipy.org/doc/scipy-0.17.0/reference/generated/scipy.optimize.differential_evolution.html) to utilize GPU parallelism by batching predictions together."
      ]
    },
    {
      "cell_type": "code",
      "execution_count": null,
      "metadata": {
        "id": "tlO00HlxbB0k"
      },
      "outputs": [],
      "source": [
        "# Run this cell if you are using Google Colab to see the Ackley GIF\n",
        "if in_colab:\n",
        "    from IPython.display import Image\n",
        "    with open('images/Ackley.gif','rb') as file:\n",
        "        display(Image(file.read()))"
      ]
    },
    {
      "cell_type": "code",
      "execution_count": null,
      "metadata": {
        "id": "7rlzqXpqSgrW"
      },
      "outputs": [],
      "source": [
        "def attack(img_id, model, target=None, pixel_count=1, \n",
        "           maxiter=75, popsize=400, verbose=False):\n",
        "    # Change the target class based on whether this is a targeted attack or not\n",
        "    targeted_attack = target is not None\n",
        "    target_class = target if targeted_attack else y_test[img_id, 0]\n",
        "    \n",
        "    # Define bounds for a flat vector of x,y,r,g,b values\n",
        "    # For more pixels, repeat this layout\n",
        "    bounds = [(0,32), (0,32), (0,256), (0,256), (0,256)] * pixel_count\n",
        "    \n",
        "    # Population multiplier, in terms of the size of the perturbation vector x\n",
        "    popmul = max(1, popsize // len(bounds))\n",
        "    \n",
        "    # Format the predict/callback functions for the differential evolution algorithm\n",
        "    def predict_fn(xs):\n",
        "        return predict_classes(xs, x_test[img_id], target_class, \n",
        "                               model, target is None)\n",
        "    \n",
        "    def callback_fn(x, convergence):\n",
        "        return attack_success(x, x_test[img_id], target_class, \n",
        "                              model, targeted_attack, verbose)\n",
        "    \n",
        "    # Call Scipy's Implementation of Differential Evolution\n",
        "    attack_result = differential_evolution(\n",
        "        predict_fn, bounds, maxiter=maxiter, popsize=popmul,\n",
        "        recombination=1, atol=-1, callback=callback_fn, polish=False)\n",
        "\n",
        "    # Calculate some useful statistics to return from this function\n",
        "    attack_image = perturb_image(attack_result.x, x_test[img_id])[0]\n",
        "    prior_probs = model.predict_one(x_test[img_id])\n",
        "    predicted_probs = model.predict_one(attack_image)\n",
        "    predicted_class = np.argmax(predicted_probs)\n",
        "    actual_class = y_test[img_id, 0]\n",
        "    success = predicted_class != actual_class\n",
        "    cdiff = prior_probs[actual_class] - predicted_probs[actual_class]\n",
        "\n",
        "    # Show the best attempt at a solution (successful or not)\n",
        "    helper.plot_image(attack_image, actual_class, class_names, predicted_class)\n",
        "\n",
        "    return [model.name, pixel_count, img_id, actual_class, predicted_class, success, cdiff, prior_probs, predicted_probs, attack_result.x]"
      ]
    },
    {
      "cell_type": "markdown",
      "metadata": {
        "id": "ErFb8_pU8Jyc"
      },
      "source": [
        "#### Untargeted Attack"
      ]
    },
    {
      "cell_type": "markdown",
      "metadata": {
        "id": "pTTxnmIT8Jyc"
      },
      "source": [
        "Let's look at one iteration of the untargeted attack. Here we will demonstrate a successful attack an image of a frog with the `resnet` model. We should see the confidence in the true class drop after several iterations.\n",
        "\n",
        "Try to see if you can successfully attack other images/models. The more pixels we are allowed to modify, the more likely it is we are to find a solution for any given image."
      ]
    },
    {
      "cell_type": "code",
      "execution_count": null,
      "metadata": {
        "scrolled": false,
        "id": "Dd-chY5A8Jyc",
        "outputId": "c20628e3-b62a-496e-964b-3c881dc92968"
      },
      "outputs": [
        {
          "name": "stdout",
          "output_type": "stream",
          "text": [
            "Confidence: 0.7792326\n",
            "Confidence: 0.7792326\n",
            "Confidence: 0.7792326\n",
            "Confidence: 0.58617187\n",
            "Confidence: 0.58617187\n",
            "Confidence: 0.58617187\n",
            "Confidence: 0.5463879\n",
            "Confidence: 0.5463879\n",
            "Confidence: 0.40215665\n"
          ]
        },
        {
          "data": {
            "image/png": "[encoded data removed]",
            "text/plain": [
              "<matplotlib.figure.Figure at 0x7f91bb0c6d68>"
            ]
          },
          "metadata": {},
          "output_type": "display_data"
        }
      ],
      "source": [
        "image_id = 102\n",
        "pixels = 1 # Number of pixels to attack\n",
        "model = resnet\n",
        "\n",
        "_ = attack(image_id, model, pixel_count=pixels, verbose=True)"
      ]
    },
    {
      "cell_type": "markdown",
      "metadata": {
        "id": "Zj2CaHQq8Jyc"
      },
      "source": [
        "#### Targeted Attack"
      ]
    },
    {
      "cell_type": "markdown",
      "metadata": {
        "id": "SFTbbMn48Jyc"
      },
      "source": [
        "In the targeted attack, we can choose which class we want a model to classify an image as. The task is much harder for the targeted attack, as we constrain the misclassification to a given class rather than any class that's not the correct one. We should see the confidence in the target class rise after several iterations.\n",
        "\n",
        "Below we try to cause the `lenet` to classify an image of a `ship` as an `automobile`. Try to change the parameters and see what happens."
      ]
    },
    {
      "cell_type": "code",
      "execution_count": null,
      "metadata": {
        "scrolled": false,
        "id": "eAFD4pmh8Jyd",
        "outputId": "7c8c3ce6-04dc-4f84-c4ac-6129200c521a"
      },
      "outputs": [
        {
          "name": "stdout",
          "output_type": "stream",
          "text": [
            "Attacking with target automobile\n",
            "Confidence: 0.072408296\n",
            "Confidence: 0.072408296\n",
            "Confidence: 0.072408296\n",
            "Confidence: 0.072408296\n",
            "Confidence: 0.072408296\n",
            "Confidence: 0.072408296\n",
            "Confidence: 0.072408296\n",
            "Confidence: 0.104250394\n",
            "Confidence: 0.104250394\n",
            "Confidence: 0.104250394\n",
            "Confidence: 0.104250394\n",
            "Confidence: 0.104250394\n",
            "Confidence: 0.104250394\n",
            "Confidence: 0.104250394\n",
            "Confidence: 0.28965676\n",
            "Confidence: 0.28965676\n",
            "Confidence: 0.28965676\n",
            "Confidence: 0.28965676\n",
            "Confidence: 0.28965676\n",
            "Confidence: 0.28965676\n",
            "Confidence: 0.28965676\n",
            "Confidence: 0.28965676\n",
            "Confidence: 0.28965676\n",
            "Confidence: 0.28965676\n",
            "Confidence: 0.28965676\n",
            "Confidence: 0.28965676\n",
            "Confidence: 0.28965676\n",
            "Confidence: 0.30170715\n",
            "Confidence: 0.42491597\n",
            "Confidence: 0.42491597\n",
            "Confidence: 0.42491597\n",
            "Confidence: 0.47848365\n",
            "Confidence: 0.47848365\n",
            "Confidence: 0.5053054\n"
          ]
        },
        {
          "data": {
            "image/png": "[encoded data removed]",
            "text/plain": [
              "<matplotlib.figure.Figure at 0x7f91bb153390>"
            ]
          },
          "metadata": {},
          "output_type": "display_data"
        }
      ],
      "source": [
        "image_id = 108\n",
        "target_class = 1 # Integer in range 0-9\n",
        "pixels = 3\n",
        "model = lenet\n",
        "\n",
        "print('Attacking with target', class_names[target_class])\n",
        "_ = attack(image_id, model, target_class, pixel_count=pixels, verbose=True)"
      ]
    },
    {
      "cell_type": "markdown",
      "metadata": {
        "id": "Pxmid41_8Jyd"
      },
      "source": [
        "### Collect Results"
      ]
    },
    {
      "cell_type": "markdown",
      "metadata": {
        "id": "TiYooGbw8Jyd"
      },
      "source": [
        "Armed with all the necessary tools to conduct a one pixel attack, the final step is to collect relevant statistics on the targeted and untargeted attack. The relevant data points are what percentage of images were we able to successfully attack for a given model, and how the number of pixels affect this percentage.\n",
        "\n",
        "We will loop through every combination of all models, perturbations of 1,3,5 pixels, images, and target classes (for the targeted attack). This will take a lot of computational resources and time, so [skip to the statistics section](#Attack-Statistics) if that's not your idea of fun."
      ]
    },
    {
      "cell_type": "code",
      "execution_count": null,
      "metadata": {
        "id": "euhMiZA18Jyd"
      },
      "outputs": [],
      "source": [
        "def attack_all(models, samples=500, pixels=(1,3,5), targeted=False, \n",
        "               maxiter=75, popsize=400, verbose=False):\n",
        "    results = []\n",
        "    for model in models:\n",
        "        model_results = []\n",
        "        valid_imgs = correct_imgs[correct_imgs.name == model.name].img\n",
        "        img_samples = np.random.choice(valid_imgs, samples, replace=False)\n",
        "        \n",
        "        for pixel_count in pixels:\n",
        "            for i, img_id in enumerate(img_samples):\n",
        "                print('\\n', model.name, '- image', img_id, '-', i+1, '/', len(img_samples))\n",
        "                targets = [None] if not targeted else range(10)\n",
        "                \n",
        "                for target in targets:\n",
        "                    if targeted:\n",
        "                        print('Attacking with target', class_names[target])\n",
        "                        if target == y_test[img_id, 0]:\n",
        "                            continue\n",
        "                    result = attack(img_id, model, target, pixel_count, \n",
        "                                    maxiter=maxiter, popsize=popsize, \n",
        "                                    verbose=verbose)\n",
        "                    model_results.append(result)\n",
        "                    \n",
        "        results += model_results\n",
        "        helper.checkpoint(results, targeted)\n",
        "    return results"
      ]
    },
    {
      "cell_type": "code",
      "execution_count": null,
      "metadata": {
        "id": "YuvWWCgT8Jyd"
      },
      "outputs": [],
      "source": [
        "untargeted = attack_all(models, samples=100, targeted=False)"
      ]
    },
    {
      "cell_type": "code",
      "execution_count": null,
      "metadata": {
        "id": "NXJZdT4r8Jyd"
      },
      "outputs": [],
      "source": [
        "targeted = attack_all(models, samples=10, targeted=True)"
      ]
    },
    {
      "cell_type": "markdown",
      "metadata": {
        "id": "y7sSYVTP8Jye"
      },
      "source": [
        "### Attack Statistics"
      ]
    },
    {
      "cell_type": "markdown",
      "metadata": {
        "id": "6bGolPZN8Jye"
      },
      "source": [
        "Print the final results! "
      ]
    },
    {
      "cell_type": "code",
      "execution_count": null,
      "metadata": {
        "id": "H22wA35Q8Jye"
      },
      "outputs": [],
      "source": [
        "# Load the results\n",
        "untargeted, targeted = helper.load_results()"
      ]
    },
    {
      "cell_type": "code",
      "execution_count": null,
      "metadata": {
        "scrolled": true,
        "id": "rM41cuEd8Jye"
      },
      "outputs": [],
      "source": [
        "columns = ['model', 'pixels', 'image', 'true', 'predicted', 'success', 'cdiff', 'prior_probs', 'predicted_probs', 'perturbation']\n",
        "untargeted_results = pd.DataFrame(untargeted, columns=columns)\n",
        "targeted_results = pd.DataFrame(targeted, columns=columns)"
      ]
    },
    {
      "cell_type": "markdown",
      "metadata": {
        "id": "VEuTstGD8Jye"
      },
      "source": [
        "#### Untargeted"
      ]
    },
    {
      "cell_type": "code",
      "execution_count": null,
      "metadata": {
        "id": "R9Cju8na8Jye",
        "outputId": "2fccc535-300c-48b6-8ba7-f2ff6cf93868"
      },
      "outputs": [
        {
          "data": {
            "text/html": [
              "<div>\n",
              "<style>\n",
              "    .dataframe thead tr:only-child th {\n",
              "        text-align: right;\n",
              "    }\n",
              "\n",
              "    .dataframe thead th {\n",
              "        text-align: left;\n",
              "    }\n",
              "\n",
              "    .dataframe tbody tr th {\n",
              "        vertical-align: top;\n",
              "    }\n",
              "</style>\n",
              "<table border=\"1\" class=\"dataframe\">\n",
              "  <thead>\n",
              "    <tr style=\"text-align: right;\">\n",
              "      <th></th>\n",
              "      <th>model</th>\n",
              "      <th>accuracy</th>\n",
              "      <th>pixels</th>\n",
              "      <th>attack_success_rate</th>\n",
              "    </tr>\n",
              "  </thead>\n",
              "  <tbody>\n",
              "    <tr>\n",
              "      <th>0</th>\n",
              "      <td>lenet</td>\n",
              "      <td>0.7488</td>\n",
              "      <td>1</td>\n",
              "      <td>0.63</td>\n",
              "    </tr>\n",
              "    <tr>\n",
              "      <th>1</th>\n",
              "      <td>lenet</td>\n",
              "      <td>0.7488</td>\n",
              "      <td>3</td>\n",
              "      <td>0.92</td>\n",
              "    </tr>\n",
              "    <tr>\n",
              "      <th>2</th>\n",
              "      <td>lenet</td>\n",
              "      <td>0.7488</td>\n",
              "      <td>5</td>\n",
              "      <td>0.93</td>\n",
              "    </tr>\n",
              "    <tr>\n",
              "      <th>3</th>\n",
              "      <td>pure_cnn</td>\n",
              "      <td>0.8877</td>\n",
              "      <td>1</td>\n",
              "      <td>0.13</td>\n",
              "    </tr>\n",
              "    <tr>\n",
              "      <th>4</th>\n",
              "      <td>pure_cnn</td>\n",
              "      <td>0.8877</td>\n",
              "      <td>3</td>\n",
              "      <td>0.58</td>\n",
              "    </tr>\n",
              "    <tr>\n",
              "      <th>5</th>\n",
              "      <td>pure_cnn</td>\n",
              "      <td>0.8877</td>\n",
              "      <td>5</td>\n",
              "      <td>0.63</td>\n",
              "    </tr>\n",
              "    <tr>\n",
              "      <th>6</th>\n",
              "      <td>net_in_net</td>\n",
              "      <td>0.9074</td>\n",
              "      <td>1</td>\n",
              "      <td>0.34</td>\n",
              "    </tr>\n",
              "    <tr>\n",
              "      <th>7</th>\n",
              "      <td>net_in_net</td>\n",
              "      <td>0.9074</td>\n",
              "      <td>3</td>\n",
              "      <td>0.73</td>\n",
              "    </tr>\n",
              "    <tr>\n",
              "      <th>8</th>\n",
              "      <td>net_in_net</td>\n",
              "      <td>0.9074</td>\n",
              "      <td>5</td>\n",
              "      <td>0.73</td>\n",
              "    </tr>\n",
              "    <tr>\n",
              "      <th>9</th>\n",
              "      <td>resnet</td>\n",
              "      <td>0.9231</td>\n",
              "      <td>1</td>\n",
              "      <td>0.34</td>\n",
              "    </tr>\n",
              "    <tr>\n",
              "      <th>10</th>\n",
              "      <td>resnet</td>\n",
              "      <td>0.9231</td>\n",
              "      <td>3</td>\n",
              "      <td>0.79</td>\n",
              "    </tr>\n",
              "    <tr>\n",
              "      <th>11</th>\n",
              "      <td>resnet</td>\n",
              "      <td>0.9231</td>\n",
              "      <td>5</td>\n",
              "      <td>0.79</td>\n",
              "    </tr>\n",
              "    <tr>\n",
              "      <th>12</th>\n",
              "      <td>densenet</td>\n",
              "      <td>0.9467</td>\n",
              "      <td>1</td>\n",
              "      <td>0.31</td>\n",
              "    </tr>\n",
              "    <tr>\n",
              "      <th>13</th>\n",
              "      <td>densenet</td>\n",
              "      <td>0.9467</td>\n",
              "      <td>3</td>\n",
              "      <td>0.71</td>\n",
              "    </tr>\n",
              "    <tr>\n",
              "      <th>14</th>\n",
              "      <td>densenet</td>\n",
              "      <td>0.9467</td>\n",
              "      <td>5</td>\n",
              "      <td>0.69</td>\n",
              "    </tr>\n",
              "    <tr>\n",
              "      <th>15</th>\n",
              "      <td>wide_resnet</td>\n",
              "      <td>0.9534</td>\n",
              "      <td>1</td>\n",
              "      <td>0.19</td>\n",
              "    </tr>\n",
              "    <tr>\n",
              "      <th>16</th>\n",
              "      <td>wide_resnet</td>\n",
              "      <td>0.9534</td>\n",
              "      <td>3</td>\n",
              "      <td>0.58</td>\n",
              "    </tr>\n",
              "    <tr>\n",
              "      <th>17</th>\n",
              "      <td>wide_resnet</td>\n",
              "      <td>0.9534</td>\n",
              "      <td>5</td>\n",
              "      <td>0.65</td>\n",
              "    </tr>\n",
              "    <tr>\n",
              "      <th>18</th>\n",
              "      <td>capsnet</td>\n",
              "      <td>0.7982</td>\n",
              "      <td>1</td>\n",
              "      <td>0.19</td>\n",
              "    </tr>\n",
              "    <tr>\n",
              "      <th>19</th>\n",
              "      <td>capsnet</td>\n",
              "      <td>0.7982</td>\n",
              "      <td>3</td>\n",
              "      <td>0.39</td>\n",
              "    </tr>\n",
              "    <tr>\n",
              "      <th>20</th>\n",
              "      <td>capsnet</td>\n",
              "      <td>0.7982</td>\n",
              "      <td>5</td>\n",
              "      <td>0.36</td>\n",
              "    </tr>\n",
              "  </tbody>\n",
              "</table>\n",
              "</div>"
            ],
            "text/plain": [
              "          model  accuracy  pixels  attack_success_rate\n",
              "0     lenet    0.7488       1                 0.63\n",
              "1     lenet    0.7488       3                 0.92\n",
              "2     lenet    0.7488       5                 0.93\n",
              "3      pure_cnn    0.8877       1                 0.13\n",
              "4      pure_cnn    0.8877       3                 0.58\n",
              "5      pure_cnn    0.8877       5                 0.63\n",
              "6    net_in_net    0.9074       1                 0.34\n",
              "7    net_in_net    0.9074       3                 0.73\n",
              "8    net_in_net    0.9074       5                 0.73\n",
              "9        resnet    0.9231       1                 0.34\n",
              "10       resnet    0.9231       3                 0.79\n",
              "11       resnet    0.9231       5                 0.79\n",
              "12     densenet    0.9467       1                 0.31\n",
              "13     densenet    0.9467       3                 0.71\n",
              "14     densenet    0.9467       5                 0.69\n",
              "15  wide_resnet    0.9534       1                 0.19\n",
              "16  wide_resnet    0.9534       3                 0.58\n",
              "17  wide_resnet    0.9534       5                 0.65\n",
              "18      capsnet    0.7982       1                 0.19\n",
              "19      capsnet    0.7982       3                 0.39\n",
              "20      capsnet    0.7982       5                 0.36"
            ]
          },
          "execution_count": 21,
          "metadata": {},
          "output_type": "execute_result"
        }
      ],
      "source": [
        "helper.attack_stats(untargeted_results, models, network_stats)"
      ]
    },
    {
      "cell_type": "markdown",
      "metadata": {
        "id": "IkjsFaua8Jye"
      },
      "source": [
        "#### Targeted"
      ]
    },
    {
      "cell_type": "code",
      "execution_count": null,
      "metadata": {
        "id": "kEz5aOki8Jye",
        "outputId": "73ec3373-c99b-4ac0-9e4e-d0598e85f28a"
      },
      "outputs": [
        {
          "data": {
            "text/html": [
              "<div>\n",
              "<style>\n",
              "    .dataframe thead tr:only-child th {\n",
              "        text-align: right;\n",
              "    }\n",
              "\n",
              "    .dataframe thead th {\n",
              "        text-align: left;\n",
              "    }\n",
              "\n",
              "    .dataframe tbody tr th {\n",
              "        vertical-align: top;\n",
              "    }\n",
              "</style>\n",
              "<table border=\"1\" class=\"dataframe\">\n",
              "  <thead>\n",
              "    <tr style=\"text-align: right;\">\n",
              "      <th></th>\n",
              "      <th>model</th>\n",
              "      <th>accuracy</th>\n",
              "      <th>pixels</th>\n",
              "      <th>attack_success_rate</th>\n",
              "    </tr>\n",
              "  </thead>\n",
              "  <tbody>\n",
              "    <tr>\n",
              "      <th>0</th>\n",
              "      <td>lenet</td>\n",
              "      <td>0.7488</td>\n",
              "      <td>1</td>\n",
              "      <td>0.344444</td>\n",
              "    </tr>\n",
              "    <tr>\n",
              "      <th>1</th>\n",
              "      <td>lenet</td>\n",
              "      <td>0.7488</td>\n",
              "      <td>3</td>\n",
              "      <td>0.644444</td>\n",
              "    </tr>\n",
              "    <tr>\n",
              "      <th>2</th>\n",
              "      <td>lenet</td>\n",
              "      <td>0.7488</td>\n",
              "      <td>5</td>\n",
              "      <td>0.644444</td>\n",
              "    </tr>\n",
              "    <tr>\n",
              "      <th>3</th>\n",
              "      <td>pure_cnn</td>\n",
              "      <td>0.8877</td>\n",
              "      <td>1</td>\n",
              "      <td>0.066667</td>\n",
              "    </tr>\n",
              "    <tr>\n",
              "      <th>4</th>\n",
              "      <td>pure_cnn</td>\n",
              "      <td>0.8877</td>\n",
              "      <td>3</td>\n",
              "      <td>0.133333</td>\n",
              "    </tr>\n",
              "    <tr>\n",
              "      <th>5</th>\n",
              "      <td>pure_cnn</td>\n",
              "      <td>0.8877</td>\n",
              "      <td>5</td>\n",
              "      <td>0.188889</td>\n",
              "    </tr>\n",
              "    <tr>\n",
              "      <th>6</th>\n",
              "      <td>net_in_net</td>\n",
              "      <td>0.9074</td>\n",
              "      <td>1</td>\n",
              "      <td>0.100000</td>\n",
              "    </tr>\n",
              "    <tr>\n",
              "      <th>7</th>\n",
              "      <td>net_in_net</td>\n",
              "      <td>0.9074</td>\n",
              "      <td>3</td>\n",
              "      <td>0.244444</td>\n",
              "    </tr>\n",
              "    <tr>\n",
              "      <th>8</th>\n",
              "      <td>net_in_net</td>\n",
              "      <td>0.9074</td>\n",
              "      <td>5</td>\n",
              "      <td>0.311111</td>\n",
              "    </tr>\n",
              "    <tr>\n",
              "      <th>9</th>\n",
              "      <td>resnet</td>\n",
              "      <td>0.9231</td>\n",
              "      <td>1</td>\n",
              "      <td>0.144444</td>\n",
              "    </tr>\n",
              "    <tr>\n",
              "      <th>10</th>\n",
              "      <td>resnet</td>\n",
              "      <td>0.9231</td>\n",
              "      <td>3</td>\n",
              "      <td>0.211111</td>\n",
              "    </tr>\n",
              "    <tr>\n",
              "      <th>11</th>\n",
              "      <td>resnet</td>\n",
              "      <td>0.9231</td>\n",
              "      <td>5</td>\n",
              "      <td>0.222222</td>\n",
              "    </tr>\n",
              "    <tr>\n",
              "      <th>12</th>\n",
              "      <td>densenet</td>\n",
              "      <td>0.9467</td>\n",
              "      <td>1</td>\n",
              "      <td>0.044444</td>\n",
              "    </tr>\n",
              "    <tr>\n",
              "      <th>13</th>\n",
              "      <td>densenet</td>\n",
              "      <td>0.9467</td>\n",
              "      <td>3</td>\n",
              "      <td>0.233333</td>\n",
              "    </tr>\n",
              "    <tr>\n",
              "      <th>14</th>\n",
              "      <td>densenet</td>\n",
              "      <td>0.9467</td>\n",
              "      <td>5</td>\n",
              "      <td>0.288889</td>\n",
              "    </tr>\n",
              "    <tr>\n",
              "      <th>15</th>\n",
              "      <td>wide_resnet</td>\n",
              "      <td>0.9534</td>\n",
              "      <td>1</td>\n",
              "      <td>0.011111</td>\n",
              "    </tr>\n",
              "    <tr>\n",
              "      <th>16</th>\n",
              "      <td>wide_resnet</td>\n",
              "      <td>0.9534</td>\n",
              "      <td>3</td>\n",
              "      <td>0.188889</td>\n",
              "    </tr>\n",
              "    <tr>\n",
              "      <th>17</th>\n",
              "      <td>wide_resnet</td>\n",
              "      <td>0.9534</td>\n",
              "      <td>5</td>\n",
              "      <td>0.222222</td>\n",
              "    </tr>\n",
              "    <tr>\n",
              "      <th>18</th>\n",
              "      <td>capsnet</td>\n",
              "      <td>0.7982</td>\n",
              "      <td>1</td>\n",
              "      <td>0.000000</td>\n",
              "    </tr>\n",
              "    <tr>\n",
              "      <th>19</th>\n",
              "      <td>capsnet</td>\n",
              "      <td>0.7982</td>\n",
              "      <td>3</td>\n",
              "      <td>0.044444</td>\n",
              "    </tr>\n",
              "    <tr>\n",
              "      <th>20</th>\n",
              "      <td>capsnet</td>\n",
              "      <td>0.7982</td>\n",
              "      <td>5</td>\n",
              "      <td>0.044444</td>\n",
              "    </tr>\n",
              "  </tbody>\n",
              "</table>\n",
              "</div>"
            ],
            "text/plain": [
              "          model  accuracy  pixels  attack_success_rate\n",
              "0     lenet    0.7488       1             0.344444\n",
              "1     lenet    0.7488       3             0.644444\n",
              "2     lenet    0.7488       5             0.644444\n",
              "3      pure_cnn    0.8877       1             0.066667\n",
              "4      pure_cnn    0.8877       3             0.133333\n",
              "5      pure_cnn    0.8877       5             0.188889\n",
              "6    net_in_net    0.9074       1             0.100000\n",
              "7    net_in_net    0.9074       3             0.244444\n",
              "8    net_in_net    0.9074       5             0.311111\n",
              "9        resnet    0.9231       1             0.144444\n",
              "10       resnet    0.9231       3             0.211111\n",
              "11       resnet    0.9231       5             0.222222\n",
              "12     densenet    0.9467       1             0.044444\n",
              "13     densenet    0.9467       3             0.233333\n",
              "14     densenet    0.9467       5             0.288889\n",
              "15  wide_resnet    0.9534       1             0.011111\n",
              "16  wide_resnet    0.9534       3             0.188889\n",
              "17  wide_resnet    0.9534       5             0.222222\n",
              "18      capsnet    0.7982       1             0.000000\n",
              "19      capsnet    0.7982       3             0.044444\n",
              "20      capsnet    0.7982       5             0.044444"
            ]
          },
          "execution_count": 22,
          "metadata": {},
          "output_type": "execute_result"
        }
      ],
      "source": [
        "helper.attack_stats(targeted_results, models, network_stats)"
      ]
    },
    {
      "cell_type": "markdown",
      "metadata": {
        "id": "GpEyV0E48Jyf"
      },
      "source": [
        "### Show some successful attacks"
      ]
    },
    {
      "cell_type": "markdown",
      "metadata": {
        "id": "OURKq1vO8Jyf"
      },
      "source": [
        "Plot 9 random successful attack images"
      ]
    },
    {
      "cell_type": "code",
      "execution_count": null,
      "metadata": {
        "id": "RgYY-KoT8Jyf",
        "outputId": "ed5acbf0-3de2-40cd-e2c6-3928a9bd6883"
      },
      "outputs": [
        {
          "name": "stdout",
          "output_type": "stream",
          "text": [
            "Untargeted Attack\n"
          ]
        },
        {
          "data": {
            "image/png": "[encoded data removed]",
            "text/plain": [
              "<matplotlib.figure.Figure at 0x7f91b1546b38>"
            ]
          },
          "metadata": {},
          "output_type": "display_data"
        }
      ],
      "source": [
        "print('Untargeted Attack')\n",
        "helper.visualize_attack(untargeted_results, class_names)"
      ]
    },
    {
      "cell_type": "code",
      "execution_count": null,
      "metadata": {
        "id": "YmCNIq0c8Jyf",
        "outputId": "4c24d5e4-e342-4e8a-b014-f5c20ebe7050"
      },
      "outputs": [
        {
          "name": "stdout",
          "output_type": "stream",
          "text": [
            "Targeted Attack\n"
          ]
        },
        {
          "data": {
            "image/png": "[encoded data removed]",
            "text/plain": [
              "<matplotlib.figure.Figure at 0x7f91b9546780>"
            ]
          },
          "metadata": {},
          "output_type": "display_data"
        }
      ],
      "source": [
        "print('Targeted Attack')\n",
        "helper.visualize_attack(targeted_results, class_names)"
      ]
    },
    {
      "cell_type": "markdown",
      "metadata": {
        "id": "a8TeDVwA8Jyf"
      },
      "source": [
        "## Conclusions"
      ]
    },
    {
      "cell_type": "markdown",
      "metadata": {
        "id": "n49KpV6X8Jyf"
      },
      "source": [
        "It appears that the accuracy of a model is not strongly correlated with the chance of performing a successful attack on an image. Perhaps surprisingly, the purely convolutional model is the most resistant CNN to these types of attacks. In addition, the capsule network CapsNet has the lowest attack success rate out of all the models, although it is still vulnerable to attack.\n",
        "\n",
        "[Part 2](1_one-pixel-attack-cifar10.ipynb)"
      ]
    },
    {
      "cell_type": "markdown",
      "metadata": {
        "id": "-4BxldBP8Jyf"
      },
      "source": [
        "## Credits\n",
        " -  This implemenation is based off of the original paper describing the one pixel attack: https://arxiv.org/abs/1710.08864\n",
        " - Base code for iPython notebook: https://github.com/09rohanchopra/cifar10\n",
        " - Keras Cifar10 models: https://github.com/BIGBALLON/cifar-10-cnn\n",
        " - Scipy's differential evolution implementation: https://docs.scipy.org/doc/scipy-0.17.0/reference/generated/scipy.optimize.differential_evolution.html\n",
        " - State of the art: https://github.com/RedditSota/state-of-the-art-result-for-machine-learning-problems\n",
        " - CapsNet Keras: https://github.com/XifengGuo/CapsNet-Keras\n",
        " - CapsNet with Cifar: https://github.com/theblackcat102/dynamic-routing-capsule-cifar"
      ]
    }
  ],
  "metadata": {
    "kernelspec": {
      "display_name": "Python 3",
      "language": "python",
      "name": "python3"
    },
    "language_info": {
      "codemirror_mode": {
        "name": "ipython",
        "version": 3
      },
      "file_extension": ".py",
      "mimetype": "text/x-python",
      "name": "python",
      "nbconvert_exporter": "python",
      "pygments_lexer": "ipython3",
      "version": "3.7.1"
    },
    "colab": {
      "name": "1_one-pixel-attack-cifar10.ipynb",
      "provenance": []
    }
  },
  "nbformat": 4,
  "nbformat_minor": 0
}