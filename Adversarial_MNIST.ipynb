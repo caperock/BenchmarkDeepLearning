{
  "nbformat": 4,
  "nbformat_minor": 0,
  "metadata": {
    "colab": {
      "name": "Making the Most of your Colab Subscription",
      "provenance": [],
      "collapsed_sections": [],
      "machine_shape": "hm",
      "include_colab_link": true
    },
    "kernelspec": {
      "display_name": "Python 3",
      "name": "python3"
    },
    "accelerator": "GPU"
  },
  "cells": [
    {
      "cell_type": "markdown",
      "metadata": {
        "id": "view-in-github",
        "colab_type": "text"
      },
      "source": [
        "<a href=\"https://colab.research.google.com/github/daiweiworking/BenchmarkDeepLearning/blob/master/Adversarial_MNIST.ipynb\" target=\"_parent\"><img src=\"https://colab.research.google.com/assets/colab-badge.svg\" alt=\"Open In Colab\"/></a>"
      ]
    },
    {
      "cell_type": "markdown",
      "metadata": {
        "id": "QMMqmdiYMkvi"
      },
      "source": [
        "\n",
        "# Advisorial Attacks: MNIST datasets\n",
        "\n",
        "The reference 1 is great tutorial, but I fixed some codes issues.\n",
        "\n",
        "\n",
        "Reference:\n",
        "[1] https://colab.research.google.com/notebooks/pro.ipynb#scrollTo=QMMqmdiYMkvi\n"
      ]
    },
    {
      "cell_type": "code",
      "metadata": {
        "id": "23TOba33L4qf"
      },
      "source": [
        "\n",
        "from torchvision import datasets, transforms\n",
        "from torch.utils.data import DataLoader\n",
        "\n",
        "mnist_train = datasets.MNIST(\"./data\", train=True, download=True, transform=transforms.ToTensor())\n",
        "mnist_test = datasets.MNIST(\"./data\", train=False, download=True, transform=transforms.ToTensor())\n",
        "\n",
        "# Explain train_idx = mnist_train.targets <= 1\n",
        "# if mnist_train.targets > 1, then train_idx = False; \n",
        "# if mnist_train.targets < 0, then train_idx = True; \n",
        "# Suggestion: train_idx = (mnist_train.targets <= 1)\n",
        "train_idx = mnist_train.targets <= 1\n",
        "\n",
        "mnist_train.data = mnist_train.data[train_idx]\n",
        "mnist_train.targets = mnist_train.targets[train_idx]\n",
        "\n",
        "test_idx = mnist_test.targets <= 1\n",
        "mnist_test.data = mnist_test.data[test_idx]\n",
        "mnist_test.targets = mnist_test.targets[test_idx]\n",
        "\n",
        "train_loader = DataLoader(mnist_train, batch_size = 100, shuffle=True)\n",
        "test_loader = DataLoader(mnist_test, batch_size = 100, shuffle=False)"
      ],
      "execution_count": 26,
      "outputs": []
    },
    {
      "cell_type": "code",
      "metadata": {
        "id": "wFcOrXP1fFK_"
      },
      "source": [
        "import torch\n",
        "import torch.nn as nn\n",
        "import torch.optim as optim\n",
        "\n",
        "# do a single pass over the data\n",
        "def epoch(loader, model, opt=None):\n",
        "    total_loss, total_err = 0.,0.\n",
        "    for X,y in loader:\n",
        "        yp = model(X.view(X.shape[0], -1))[:,0]\n",
        "        loss = nn.BCEWithLogitsLoss()(yp, y.float())\n",
        "        if opt:\n",
        "            opt.zero_grad()\n",
        "            loss.backward()\n",
        "            opt.step()\n",
        "        \n",
        "        total_err += ((yp > 0) * (y==0) + (yp < 0) * (y==1)).sum().item()\n",
        "        total_loss += loss.item() * X.shape[0]\n",
        "    return total_err / len(loader.dataset), total_loss / len(loader.dataset)"
      ],
      "execution_count": 20,
      "outputs": []
    },
    {
      "cell_type": "code",
      "metadata": {
        "colab": {
          "base_uri": "https://localhost:8080/"
        },
        "id": "nFW17YJ-gRDX",
        "outputId": "fdda4800-a827-4cc6-de05-c767a3497663"
      },
      "source": [
        "model = nn.Linear(784, 1)\n",
        "opt = optim.SGD(model.parameters(), lr=1.)\n",
        "print(\"Train Err\", \"Train Loss\", \"Test Err\", \"Test Loss\", sep=\"\\t\")\n",
        "for i in range(10):\n",
        "    train_err, train_loss = epoch(train_loader, model, opt)\n",
        "    test_err, test_loss = epoch(test_loader, model)\n",
        "    print(*(\"{:.6f}\".format(i) for i in (train_err, train_loss, test_err, test_loss)), sep=\"\\t\")"
      ],
      "execution_count": 27,
      "outputs": [
        {
          "output_type": "stream",
          "text": [
            "Train Err\tTrain Loss\tTest Err\tTest Loss\n",
            "0.005211\t0.015122\t0.000946\t0.003352\n",
            "0.001500\t0.005264\t0.000946\t0.002744\n",
            "0.001342\t0.004423\t0.000473\t0.002343\n",
            "0.001184\t0.003816\t0.000473\t0.002192\n",
            "0.000869\t0.003488\t0.000946\t0.002178\n",
            "0.001026\t0.003035\t0.000473\t0.002172\n",
            "0.000947\t0.003033\t0.000473\t0.002008\n",
            "0.000947\t0.002784\t0.000946\t0.001989\n",
            "0.000711\t0.002659\t0.000473\t0.001935\n",
            "0.000869\t0.002485\t0.000473\t0.002007\n"
          ],
          "name": "stdout"
        }
      ]
    },
    {
      "cell_type": "code",
      "metadata": {
        "colab": {
          "base_uri": "https://localhost:8080/",
          "height": 298
        },
        "id": "8u_3b8RagVjY",
        "outputId": "50c60c42-c069-40a9-f1e5-73b70396479f"
      },
      "source": [
        "import matplotlib.pyplot as plt\n",
        "\n",
        "#X_test = (test_loader.dataset.test_data.float()/255).view(len(test_loader.dataset),-1)\n",
        "#y_test = test_loader.dataset.test_labels\n",
        "\n",
        "X_test = (test_loader.dataset.data.float()/255).view(len(test_loader.dataset),-1)\n",
        "y_test = test_loader.dataset.targets\n",
        "\n",
        "yp = model(X_test)[:,0]\n",
        "idx = (yp > 0) * (y_test == 0) + (yp < 0) * (y_test == 1)\n",
        "plt.imshow(1-X_test[idx][0].view(28,28).numpy(), cmap=\"gray\")\n",
        "plt.title(\"True Label: {}\".format(y_test[idx].item()))"
      ],
      "execution_count": 51,
      "outputs": [
        {
          "output_type": "execute_result",
          "data": {
            "text/plain": [
              "Text(0.5, 1.0, 'True Label: 0')"
            ]
          },
          "metadata": {
            "tags": []
          },
          "execution_count": 51
        },
        {
          "output_type": "display_data",
          "data": {
            "image/png": "[encoded data removed]",
            "text/plain": [
              "<Figure size 432x288 with 1 Axes>"
            ]
          },
          "metadata": {
            "tags": [],
            "needs_background": "light"
          }
        }
      ]
    },
    {
      "cell_type": "code",
      "metadata": {
        "colab": {
          "base_uri": "https://localhost:8080/",
          "height": 282
        },
        "id": "CBqyDYYOjEYe",
        "outputId": "b6860e27-4dc1-45e4-e2d4-34737300ac0e"
      },
      "source": [
        "epsilon = 0.2\n",
        "delta = epsilon * model.weight.detach().sign().view(28,28)\n",
        "plt.imshow(1-delta.numpy(), cmap=\"gray\")"
      ],
      "execution_count": 53,
      "outputs": [
        {
          "output_type": "execute_result",
          "data": {
            "text/plain": [
              "<matplotlib.image.AxesImage at 0x7fdf632684d0>"
            ]
          },
          "metadata": {
            "tags": []
          },
          "execution_count": 53
        },
        {
          "output_type": "display_data",
          "data": {
            "image/png": "[encoded data removed]",
            "text/plain": [
              "<Figure size 432x288 with 1 Axes>"
            ]
          },
          "metadata": {
            "tags": [],
            "needs_background": "light"
          }
        }
      ]
    },
    {
      "cell_type": "code",
      "metadata": {
        "colab": {
          "base_uri": "https://localhost:8080/"
        },
        "id": "esDizsjAj4Qx",
        "outputId": "73fd3644-c465-4fe6-d2d1-b196d25a31ec"
      },
      "source": [
        "def epoch_adv(loader, model, delta):\n",
        "    total_loss, total_err = 0.,0.\n",
        "    for X,y in loader:\n",
        "        yp = model((X-(2*y.float()[:,None,None,None]-1)*delta).view(X.shape[0], -1))[:,0]\n",
        "        loss = nn.BCEWithLogitsLoss()(yp, y.float())\n",
        "        total_err += ((yp > 0) * (y==0) + (yp < 0) * (y==1)).sum().item()\n",
        "        total_loss += loss.item() * X.shape[0]\n",
        "    return total_err / len(loader.dataset), total_loss / len(loader.dataset)\n",
        "print(epoch_adv(test_loader, model, delta[None,None,:,:]))"
      ],
      "execution_count": 7,
      "outputs": [
        {
          "output_type": "stream",
          "text": [
            "(0.8264775413711584, 3.4140494574328124)\n"
          ],
          "name": "stdout"
        }
      ]
    },
    {
      "cell_type": "code",
      "metadata": {
        "colab": {
          "base_uri": "https://localhost:8080/",
          "height": 269
        },
        "id": "_CvKvRxMj72g",
        "outputId": "f513f746-7634-460b-98f4-656978cc8c7a"
      },
      "source": [
        "f,ax = plt.subplots(5,5, sharey=True)\n",
        "for i in range(25):\n",
        "    ax[i%5][i//5].imshow(1-(X_test[i].view(28,28) - (2*y_test[i]-1)*delta).numpy(), cmap=\"gray\")\n",
        "    ax"
      ],
      "execution_count": 8,
      "outputs": [
        {
          "output_type": "display_data",
          "data": {
            "image/png": "[encoded data removed]",
            "text/plain": [
              "<Figure size 432x288 with 25 Axes>"
            ]
          },
          "metadata": {
            "tags": [],
            "needs_background": "light"
          }
        }
      ]
    },
    {
      "cell_type": "code",
      "metadata": {
        "id": "j9V2pweJv8TK"
      },
      "source": [
        "# do a single pass over the data\n",
        "def epoch_robust(loader, model, epsilon, opt=None):\n",
        "    total_loss, total_err = 0.,0.\n",
        "    for X,y in loader:\n",
        "        yp = model(X.view(X.shape[0], -1))[:,0] - epsilon*(2*y.float()-1)*model.weight.norm(1)\n",
        "        loss = nn.BCEWithLogitsLoss()(yp, y.float())\n",
        "        if opt:\n",
        "            opt.zero_grad()\n",
        "            loss.backward()\n",
        "            opt.step()\n",
        "        \n",
        "        total_err += ((yp > 0) * (y==0) + (yp < 0) * (y==1)).sum().item()\n",
        "        total_loss += loss.item() * X.shape[0]\n",
        "    return total_err / len(loader.dataset), total_loss / len(loader.dataset)"
      ],
      "execution_count": 9,
      "outputs": []
    },
    {
      "cell_type": "code",
      "metadata": {
        "colab": {
          "base_uri": "https://localhost:8080/"
        },
        "id": "VK9Dt793v_jg",
        "outputId": "3f21e7a7-0b18-41c0-a294-7e4b7c872887"
      },
      "source": [
        "model = nn.Linear(784, 1)\n",
        "opt = optim.SGD(model.parameters(), lr=1e-1)\n",
        "epsilon = 0.2\n",
        "print(\"Rob. Train Err\", \"Rob. Train Loss\", \"Rob. Test Err\", \"Rob. Test Loss\", sep=\"\\t\")\n",
        "for i in range(20):\n",
        "    train_err, train_loss = epoch_robust(train_loader, model, epsilon, opt)\n",
        "    test_err, test_loss = epoch_robust(test_loader, model, epsilon)\n",
        "    print(*(\"{:.6f}\".format(i) for i in (train_err, train_loss, test_err, test_loss)), sep=\"\\t\")"
      ],
      "execution_count": 10,
      "outputs": [
        {
          "output_type": "stream",
          "text": [
            "Rob. Train Err\tRob. Train Loss\tRob. Test Err\tRob. Test Loss\n",
            "0.150178\t0.377595\t0.065248\t0.215090\n",
            "0.072799\t0.223011\t0.046809\t0.168454\n",
            "0.063324\t0.197176\t0.040662\t0.153028\n",
            "0.056929\t0.183284\t0.041608\t0.145560\n",
            "0.052665\t0.174391\t0.038298\t0.135187\n",
            "0.050217\t0.167752\t0.037352\t0.130446\n",
            "0.048243\t0.162532\t0.036407\t0.127708\n",
            "0.046269\t0.158101\t0.034043\t0.130166\n",
            "0.043664\t0.154523\t0.030733\t0.117057\n",
            "0.042953\t0.151445\t0.027896\t0.117258\n",
            "0.041216\t0.149119\t0.027423\t0.117176\n",
            "0.040505\t0.146718\t0.027423\t0.109146\n",
            "0.039479\t0.144780\t0.029314\t0.119350\n",
            "0.038295\t0.143277\t0.026478\t0.111655\n",
            "0.037821\t0.141546\t0.027423\t0.113858\n",
            "0.037268\t0.140488\t0.027423\t0.110669\n",
            "0.036084\t0.139156\t0.024586\t0.100869\n",
            "0.034820\t0.138035\t0.024113\t0.103302\n",
            "0.034662\t0.137325\t0.025059\t0.101037\n",
            "0.033557\t0.136087\t0.024586\t0.101725\n"
          ],
          "name": "stdout"
        }
      ]
    },
    {
      "cell_type": "code",
      "metadata": {
        "colab": {
          "base_uri": "https://localhost:8080/"
        },
        "id": "9ayorJvswDbQ",
        "outputId": "98400c48-bd9a-4afa-cadf-7c4ad81b15de"
      },
      "source": [
        "train_err, train_loss = epoch(train_loader, model)\n",
        "test_err, test_loss = epoch(test_loader, model)\n",
        "print(\"Train Err\", \"Train Loss\", \"Test Err\", \"Test Loss\", sep=\"\\t\")\n",
        "print(*(\"{:.6f}\".format(i) for i in (train_err, train_loss, test_err, test_loss)), sep=\"\\t\")"
      ],
      "execution_count": 11,
      "outputs": [
        {
          "output_type": "stream",
          "text": [
            "Train Err\tTrain Loss\tTest Err\tTest Loss\n",
            "0.005922\t0.015284\t0.003310\t0.008187\n"
          ],
          "name": "stdout"
        }
      ]
    },
    {
      "cell_type": "code",
      "metadata": {
        "colab": {
          "base_uri": "https://localhost:8080/",
          "height": 282
        },
        "id": "83Wc3OcowIgl",
        "outputId": "3339311d-69e3-42ef-f2e8-cc7e5eb3d77a"
      },
      "source": [
        "delta = epsilon * model.weight.detach().sign().view(28,28)\n",
        "plt.imshow(1-delta.numpy(), cmap=\"gray\")"
      ],
      "execution_count": 12,
      "outputs": [
        {
          "output_type": "execute_result",
          "data": {
            "text/plain": [
              "<matplotlib.image.AxesImage at 0x7fdf6407fcd0>"
            ]
          },
          "metadata": {
            "tags": []
          },
          "execution_count": 12
        },
        {
          "output_type": "display_data",
          "data": {
            "image/png": "[encoded data removed]",
            "text/plain": [
              "<Figure size 432x288 with 1 Axes>"
            ]
          },
          "metadata": {
            "tags": [],
            "needs_background": "light"
          }
        }
      ]
    },
    {
      "cell_type": "code",
      "metadata": {
        "id": "rHJVz1ff_YhC"
      },
      "source": [
        "# do a single pass over the data\n",
        "def epoch_robust(loader, model, epsilon, opt=None):\n",
        "    total_loss, total_err = 0.,0.\n",
        "    for X,y in loader:\n",
        "        yp = model(X.view(X.shape[0], -1))[:,0] - epsilon*(2*y.float()-1)*model.weight.norm(1)\n",
        "        loss = nn.BCEWithLogitsLoss()(yp, y.float())\n",
        "        if opt:\n",
        "            opt.zero_grad()\n",
        "            loss.backward()\n",
        "            opt.step()\n",
        "        \n",
        "        total_err += ((yp > 0) * (y==0) + (yp < 0) * (y==1)).sum().item()\n",
        "        total_loss += loss.item() * X.shape[0]\n",
        "    return total_err / len(loader.dataset), total_loss / len(loader.dataset)"
      ],
      "execution_count": 13,
      "outputs": []
    },
    {
      "cell_type": "code",
      "metadata": {
        "id": "TPCYyR3sK7Kq",
        "outputId": "9e2665eb-9585-4e1c-bafc-e02b7fe6450a",
        "colab": {
          "base_uri": "https://localhost:8080/"
        }
      },
      "source": [
        "model = nn.Linear(784, 1)\n",
        "opt = optim.SGD(model.parameters(), lr=1e-1)\n",
        "epsilon = 0.2\n",
        "print(\"Rob. Train Err\", \"Rob. Train Loss\", \"Rob. Test Err\", \"Rob. Test Loss\", sep=\"\\t\")\n",
        "for i in range(20):\n",
        "    train_err, train_loss = epoch_robust(train_loader, model, epsilon, opt)\n",
        "    test_err, test_loss = epoch_robust(test_loader, model, epsilon)\n",
        "    print(*(\"{:.6f}\".format(i) for i in (train_err, train_loss, test_err, test_loss)), sep=\"\\t\")"
      ],
      "execution_count": 14,
      "outputs": [
        {
          "output_type": "stream",
          "text": [
            "Rob. Train Err\tRob. Train Loss\tRob. Test Err\tRob. Test Loss\n",
            "0.151046\t0.380088\t0.062411\t0.201874\n",
            "0.073983\t0.223509\t0.050591\t0.165944\n",
            "0.063877\t0.197639\t0.044444\t0.157974\n",
            "0.057086\t0.183806\t0.038298\t0.138020\n",
            "0.053139\t0.175000\t0.036407\t0.133181\n",
            "0.050138\t0.168481\t0.039243\t0.135257\n",
            "0.047769\t0.163177\t0.034988\t0.126525\n",
            "0.045795\t0.158461\t0.032624\t0.121779\n",
            "0.044295\t0.154797\t0.028369\t0.119361\n",
            "0.043190\t0.151835\t0.033570\t0.122198\n",
            "0.041848\t0.149366\t0.027423\t0.115587\n",
            "0.039716\t0.146944\t0.027896\t0.110598\n",
            "0.039005\t0.145110\t0.028369\t0.112789\n",
            "0.038373\t0.143409\t0.026478\t0.105116\n",
            "0.037268\t0.141813\t0.027896\t0.111542\n",
            "0.036952\t0.140413\t0.026478\t0.109116\n",
            "0.036478\t0.139155\t0.025532\t0.104297\n",
            "0.035294\t0.138231\t0.027423\t0.113674\n",
            "0.035294\t0.137120\t0.024586\t0.100986\n",
            "0.034505\t0.136542\t0.024586\t0.100325\n"
          ],
          "name": "stdout"
        }
      ]
    },
    {
      "cell_type": "code",
      "metadata": {
        "id": "c2e2EfWMLINC",
        "outputId": "6085ec5b-aafd-4f77-abad-070fba120cdf",
        "colab": {
          "base_uri": "https://localhost:8080/"
        }
      },
      "source": [
        "train_err, train_loss = epoch(train_loader, model)\n",
        "test_err, test_loss = epoch(test_loader, model)\n",
        "print(\"Train Err\", \"Train Loss\", \"Test Err\", \"Test Loss\", sep=\"\\t\")\n",
        "print(*(\"{:.6f}\".format(i) for i in (train_err, train_loss, test_err, test_loss)), sep=\"\\t\")"
      ],
      "execution_count": 15,
      "outputs": [
        {
          "output_type": "stream",
          "text": [
            "Train Err\tTrain Loss\tTest Err\tTest Loss\n",
            "0.006001\t0.015228\t0.003310\t0.008206\n"
          ],
          "name": "stdout"
        }
      ]
    },
    {
      "cell_type": "code",
      "metadata": {
        "id": "EahYy_7xLK2m",
        "outputId": "4cf84613-8b85-4d0b-88b5-633d313cc57c",
        "colab": {
          "base_uri": "https://localhost:8080/",
          "height": 282
        }
      },
      "source": [
        "delta = epsilon * model.weight.detach().sign().view(28,28)\n",
        "plt.imshow(1-delta.numpy(), cmap=\"gray\")"
      ],
      "execution_count": 16,
      "outputs": [
        {
          "output_type": "execute_result",
          "data": {
            "text/plain": [
              "<matplotlib.image.AxesImage at 0x7fdf6484e190>"
            ]
          },
          "metadata": {
            "tags": []
          },
          "execution_count": 16
        },
        {
          "output_type": "display_data",
          "data": {
            "image/png": "[encoded data removed]",
            "text/plain": [
              "<Figure size 432x288 with 1 Axes>"
            ]
          },
          "metadata": {
            "tags": [],
            "needs_background": "light"
          }
        }
      ]
    }
  ]
}